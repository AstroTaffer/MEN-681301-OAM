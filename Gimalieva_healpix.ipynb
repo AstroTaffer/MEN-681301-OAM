{
 "cells": [
  {
   "cell_type": "code",
   "execution_count": 1,
   "id": "7d1d1d90-e2a0-4ae6-b67a-868b85e4fb3d",
   "metadata": {},
   "outputs": [
    {
     "ename": "ModuleNotFoundError",
     "evalue": "No module named 'astropy_healpix'",
     "output_type": "error",
     "traceback": [
      "\u001b[0;31m---------------------------------------------------------------------------\u001b[0m",
      "\u001b[0;31mModuleNotFoundError\u001b[0m                       Traceback (most recent call last)",
      "Cell \u001b[0;32mIn[1], line 6\u001b[0m\n\u001b[1;32m      4\u001b[0m get_ipython()\u001b[38;5;241m.\u001b[39mrun_line_magic(\u001b[38;5;124m'\u001b[39m\u001b[38;5;124mmatplotlib\u001b[39m\u001b[38;5;124m'\u001b[39m, \u001b[38;5;124m'\u001b[39m\u001b[38;5;124minline\u001b[39m\u001b[38;5;124m'\u001b[39m)\n\u001b[1;32m      5\u001b[0m \u001b[38;5;28;01mimport\u001b[39;00m \u001b[38;5;21;01mnumpy\u001b[39;00m \u001b[38;5;28;01mas\u001b[39;00m \u001b[38;5;21;01mnp\u001b[39;00m\n\u001b[0;32m----> 6\u001b[0m \u001b[38;5;28;01mfrom\u001b[39;00m \u001b[38;5;21;01mastropy_healpix\u001b[39;00m \u001b[38;5;28;01mimport\u001b[39;00m HEALPix \u001b[38;5;28;01mas\u001b[39;00m hp\n\u001b[1;32m      7\u001b[0m \u001b[38;5;28;01mfrom\u001b[39;00m \u001b[38;5;21;01mscipy\u001b[39;00m\u001b[38;5;21;01m.\u001b[39;00m\u001b[38;5;21;01minterpolate\u001b[39;00m \u001b[38;5;28;01mimport\u001b[39;00m griddata\n\u001b[1;32m      9\u001b[0m \u001b[38;5;28;01mdef\u001b[39;00m \u001b[38;5;21mnside_to_pixel_area\u001b[39m(nside):\n",
      "\u001b[0;31mModuleNotFoundError\u001b[0m: No module named 'astropy_healpix'"
     ]
    }
   ],
   "source": [
    "import matplotlib.pyplot as plt\n",
    "from astropy.coordinates import SkyCoord\n",
    "import astropy.units as u\n",
    "%matplotlib inline\n",
    "import numpy as np\n",
    "from astropy_healpix import HEALPix as hp\n",
    "from scipy.interpolate import griddata\n",
    "\n",
    "def nside_to_pixel_area(nside):\n",
    "    nside = np.asanyarray(nside, dtype=np.int64)\n",
    "    npix = 12 * nside * nside\n",
    "    pixel_area = 4 * np.pi / npix * u.sr\n",
    "    return pixel_area\n",
    "    \n",
    "def nside_to_pixel_resolution(nside):\n",
    "    nside = np.asanyarray(nside, dtype=np.int64)\n",
    "    return (nside_to_pixel_area(nside) ** 0.5).to(u.arcmin)\n",
    "\n",
    "data = np.load('I_355_tgextmap.npz')\n",
    "HPId = data['HPId']\n",
    "A0 = data['A0']\n",
    "level = 9\n",
    "\n",
    "ra = 260.10740722*u.deg\n",
    "dec = -19.3523078*u.deg\n",
    "coord = SkyCoord(ra, dec, frame='icrs')\n",
    "\n",
    "hp = hp(nside=2**level, order='nested', frame='icrs')\n",
    "search=hp.cone_search_skycoord(coord, radius=5 * u.deg)\n",
    "ext = A0[np.isin(HPId, search)]\n",
    "common = HPId[np.isin(HPId, search)]\n",
    "cd = hp.healpix_to_skycoord(common)\n",
    "\n",
    "ra = np.unique(cd.ra.value)\n",
    "dec = np.unique(cd.dec.value)\n",
    "X, Y = np.meshgrid(ra, dec)\n",
    "beta = griddata(np.transpose(np.array([cd.ra.value, cd.dec.value])), np.array(ext), (X, Y), method='nearest')\n",
    "im = plt.imshow(beta, cmap=plt.cm.viridis, aspect='auto', extent=[X.min(), X.max(), Y.min(), Y.max()],\n",
    "                origin='lower')\n",
    "plt.colorbar(im)\n",
    "plt.show()\n",
    "\n",
    "f=nside_to_pixel_resolution(2**level)\n",
    "print(f)"
   ]
  },
  {
   "cell_type": "code",
   "execution_count": null,
   "id": "8a847329-c1d3-46ba-a813-488753215f1d",
   "metadata": {},
   "outputs": [],
   "source": []
  }
 ],
 "metadata": {
  "kernelspec": {
   "display_name": "Python 3 (ipykernel)",
   "language": "python",
   "name": "python3"
  },
  "language_info": {
   "codemirror_mode": {
    "name": "ipython",
    "version": 3
   },
   "file_extension": ".py",
   "mimetype": "text/x-python",
   "name": "python",
   "nbconvert_exporter": "python",
   "pygments_lexer": "ipython3",
   "version": "3.12.0"
  }
 },
 "nbformat": 4,
 "nbformat_minor": 5
}
