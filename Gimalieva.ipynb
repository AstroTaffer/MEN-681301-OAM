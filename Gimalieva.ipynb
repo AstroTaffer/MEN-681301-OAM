{
 "cells": [
  {
   "cell_type": "code",
   "execution_count": 11,
   "id": "ee9048b4-304d-4a0b-8625-8e5cbcb11b94",
   "metadata": {},
   "outputs": [
    {
     "name": "stdout",
     "output_type": "stream",
     "text": [
      "TableList with 1 tables:\n",
      "\t'0:I/350/gaiaedr3' with 39 column(s) and 50 row(s) \n",
      "TableList with 1 tables:\n",
      "\t'0:II/246/out' with 15 column(s) and 50 row(s) \n",
      "<TableColumns names=('RAJ2000','DEJ2000','_2MASS','Jmag','e_Jmag','Hmag','e_Hmag','Kmag','e_Kmag','Qflg','Rflg','Bflg','Cflg','Xflg','Aflg')>\n",
      "TableList with 1 tables:\n",
      "\t'0:II/328/allwise' with 28 column(s) and 50 row(s) \n",
      "TableList with 1 tables:\n",
      "\t'0:II/349/ps1' with 35 column(s) and 50 row(s) \n"
     ]
    },
    {
     "name": "stderr",
     "output_type": "stream",
     "text": [
      "WARNING: InputWarning: TableList is a container of astropy.Tables. [astroquery.utils.commons]\n",
      "WARNING: InputWarning: TableList is a container of astropy.Tables. [astroquery.utils.commons]\n",
      "WARNING: InputWarning: TableList is a container of astropy.Tables. [astroquery.utils.commons]\n",
      "WARNING: InputWarning: TableList is a container of astropy.Tables. [astroquery.utils.commons]\n"
     ]
    },
    {
     "data": {
      "text/plain": [
       "'\\nfor i in range(len(table)):\\n    plt.scatter(table[\"RA_ICRS\"], r[\"DE_ICRS\"], \\n            c=r[\"phot_g_mean_mag\"], s=12)\\nr[\\'pmdec\\'] = r[\\'pmdec\\'].apply(correct_pm)\\nplt.quiver(r[\"ra\"].filled(0), r[\"dec\"].filled(0), r[\"pmra\"].filled(0), r[\"pmdec\"].filled(0), color=\\'0.4\\')\\nplt.xlabel(\"RA, °\")\\nplt.ylabel(\"DEC, °\")\\nplt.show()\\n'"
      ]
     },
     "execution_count": 11,
     "metadata": {},
     "output_type": "execute_result"
    }
   ],
   "source": [
    "import astropy.units as u\n",
    "from astroquery.xmatch import XMatch\n",
    "from astropy.table import Table\n",
    "from astroquery.vizier import Vizier\n",
    "from astropy.coordinates import SkyCoord\n",
    "from astroquery.gaia import Gaia\n",
    "import matplotlib.pyplot as plt\n",
    "from astroquery.xmatch import XMatch\n",
    "import numpy as np\n",
    "import pandas as pd\n",
    "\n",
    "coord = SkyCoord(\"04:30:47.99\", \"+64:50:56.5\", unit=(u.hourangle, u.deg), frame='icrs')\n",
    "rad = 6 * u.arcminute\n",
    "\"\"\"\n",
    "width = u.Quantity(0.03, u.hourangle)\n",
    "height = u.Quantity(0.03, u.deg)\n",
    "Gaia.ROW_LIMIT = -1\n",
    "r = Gaia.query_object_async(coordinate=coord, width=width, height=height)\n",
    "\n",
    "'RA_ICRS', 'DE_ICRS', 'Gmag', 'Jmag', 'Hmag', 'Kmag', 'W1mag', 'W2mag', 'W3mag', 'W4mag', 'gmag', 'rmag'\n",
    "catalogs = ['Gaia', '2MASS', 'MSX', 'WISE', 'PanStarrs']\n",
    "mag = np.array([['Gmag'],\n",
    "                ['Jmag', 'Hmag', 'Kmag'],\n",
    "                ['W1mag', 'W2mag', 'W3mag', 'W4mag'],\n",
    "                ['gmag', 'rmag']])\n",
    "\"\"\"\n",
    "catalogs = ['vizier:I/350/gaiaedr3', 'vizier:II/246/out', 'vizier:II/328/allwise', 'vizier:II/349/ps1']\n",
    "catalog = ['I/350/gaiaedr3', 'II/246/out', 'II/328/allwise', 'II/349/ps1']\n",
    "\n",
    "df_gaia = Table(names=('RA_ICRS','DE_ICRS'))\n",
    "\n",
    "data = Table()\n",
    "    #names=('RA_ICRS', 'DE_ICRS', 'Gmag', 'Jmag', 'Hmag', 'Kmag', 'W1mag', 'W2mag', 'W3mag', 'W4mag', 'gmag', 'rmag'))\n",
    "\n",
    "df_gaia = Table(names=('RA_ICRS', 'DE_ICRS', 'Gmag'))\n",
    "df_2mass = Table(names=('RAJ2000', 'DEJ2000', 'Jmag', 'Hmag', 'Kmag'))\n",
    "df_wise = Table(names=('RAJ2000', 'DEJ2000', 'W1mag', 'W2mag', 'W3mag', 'W4mag'))\n",
    "df_panstarrs = Table(names=('RAJ2000', 'DEJ2000', 'gmag', 'rmag'))\n",
    "\n",
    "\n",
    "for i in range(len(catalogs)):\n",
    "    result_table = Vizier.query_region(coord, radius=rad, catalog=catalog[i])\n",
    "    result_table.pprint(show_unit=True, max_lines=100, max_width=1000)\n",
    "    if i==0:\n",
    "        df_gaia = result_table[0]['RA_ICRS','DE_ICRS', 'Gmag']\n",
    "    if i==1:\n",
    "        print(result_table[0].columns)\n",
    "        df_2mass = result_table[0]['RAJ2000', 'DEJ2000', 'Jmag', 'Hmag', 'Kmag']\n",
    "    if i==2:\n",
    "        df_wise = result_table[0]['RAJ2000', 'DEJ2000', 'W1mag', 'W2mag', 'W3mag', 'W4mag']\n",
    "    if i==3:\n",
    "        df_panstarrs = result_table[0]['RAJ2000', 'DEJ2000', 'gmag', 'rmag']\n",
    "        \n",
    "table = XMatch.query(cat1=df_gaia,\n",
    "                     cat2=catalogs[1],\n",
    "                     max_distance=5 * u.arcsec,\n",
    "                     colRA1='RA_ICRS', colDec1='DE_ICRS')\n",
    "\n",
    "data.add_columns([table ['RA_ICRS'], table['DE_ICRS'], table['Gmag'], table['Jmag'], table['Hmag']])\n",
    "\n",
    "\"\"\"\n",
    "for i in range(len(table)):\n",
    "    plt.scatter(table[\"RA_ICRS\"], r[\"DE_ICRS\"], \n",
    "            c=r[\"phot_g_mean_mag\"], s=12)\n",
    "r['pmdec'] = r['pmdec'].apply(correct_pm)\n",
    "plt.quiver(r[\"ra\"].filled(0), r[\"dec\"].filled(0), r[\"pmra\"].filled(0), r[\"pmdec\"].filled(0), color='0.4')\n",
    "plt.xlabel(\"RA, °\")\n",
    "plt.ylabel(\"DEC, °\")\n",
    "plt.show()\n",
    "\"\"\""
   ]
  },
  {
   "cell_type": "code",
   "execution_count": 44,
   "id": "2aae635e-67ae-4e08-a676-26becb350c4d",
   "metadata": {},
   "outputs": [
    {
     "name": "stdout",
     "output_type": "stream",
     "text": [
      "    RA_ICRS         DE_ICRS        Gmag  \n",
      "      deg             deg          mag   \n",
      "--------------- --------------- ---------\n",
      " 67.67086437734  64.75160262369 19.637655\n",
      " 67.66876723785  64.75258313784 20.120342\n",
      " 67.65810670954  64.75227897860 20.558226\n",
      " 67.61936138846  64.75523377382 20.016695\n",
      " 67.61655749566  64.75576364506 20.675806\n",
      " 67.65902634843  64.76283666498 20.360811\n",
      "            ...             ...       ...\n",
      " 67.51470440305  64.78987517191 21.522570\n",
      " 67.53177298131  64.79560156455 18.945180\n",
      " 67.52171794643  64.80010947019 18.212729\n",
      " 67.53256025738  64.79172720549 19.851122\n",
      " 67.54130471587  64.80019555866 18.424984\n",
      " 67.54736287740  64.79652118542 20.770075\n",
      " 67.52968248160  64.79236918800 17.019910\n",
      "Length = 50 rows\n"
     ]
    }
   ],
   "source": [
    "print(df_gaia)\n"
   ]
  },
  {
   "cell_type": "code",
   "execution_count": 30,
   "id": "c4da1787-b0dd-49ff-9584-f910e34a3578",
   "metadata": {},
   "outputs": [
    {
     "name": "stdout",
     "output_type": "stream",
     "text": [
      " RAJ2000    DEJ2000    Jmag   Hmag   Kmag \n",
      "   deg        deg      mag    mag    mag  \n",
      "---------- ---------- ------ ------ ------\n",
      " 67.498878  64.797569 13.424 12.955 12.778\n",
      " 67.521601  64.800163 16.050 15.245 15.572\n",
      " 67.519268  64.803322 15.344 15.106 15.036\n",
      " 67.545350  64.792336 16.319 16.548 16.725\n",
      " 67.545717  64.789886 16.341 16.039 15.103\n",
      " 67.539694  64.800911 15.590 14.921 14.746\n",
      "       ...        ...    ...    ...    ...\n",
      " 67.669264  64.806023 14.365 13.906 13.843\n",
      " 67.733555  64.796692 15.334 14.711 14.572\n",
      " 67.728088  64.759995 14.242 13.706 13.652\n",
      " 67.721034  64.792236 16.319 15.751 15.502\n",
      " 67.700101  64.758270 16.264 15.405 15.340\n",
      " 67.719864  64.766960 15.711 15.011 14.788\n",
      " 67.708689  64.759781 16.008 15.991 15.398\n",
      "Length = 50 rows\n"
     ]
    }
   ],
   "source": [
    "print(df_2mass)"
   ]
  },
  {
   "cell_type": "code",
   "execution_count": 29,
   "id": "1cbe8e7f-de42-46b5-a53d-d3c1037c8118",
   "metadata": {},
   "outputs": [
    {
     "name": "stdout",
     "output_type": "stream",
     "text": [
      "  RAJ2000     DEJ2000   W1mag  W2mag  W3mag  W4mag \n",
      "    deg         deg      mag    mag    mag    mag  \n",
      "----------- ----------- ------ ------ ------ ------\n",
      " 67.6583241  64.7522333 16.605 16.904 12.554  8.739\n",
      " 67.6698481  64.7521202 16.626 17.467 12.303  8.969\n",
      " 67.6239519  64.7705732 16.392 16.892 12.712  8.972\n",
      " 67.6187297  64.7660613 17.002 17.368 12.609  9.271\n",
      " 67.6332235  64.7720464 13.670 13.753 12.497  9.067\n",
      " 67.6541202  64.7657523 14.766 14.742 12.083  9.122\n",
      "        ...         ...    ...    ...    ...    ...\n",
      " 67.5820700  64.8215259 16.351 16.983 12.692  8.670\n",
      " 67.5595390  64.8007325 17.509 17.481 12.593  9.043\n",
      " 67.5818232  64.8061900 14.181 14.231 12.103  8.764\n",
      " 67.5931550  64.8184332 16.349 16.385 12.208  8.926\n",
      " 67.5692405  64.8067908 16.786 17.325 12.589  8.673\n",
      " 67.5891697  64.8121072 13.639 13.711 12.515  8.482\n",
      " 67.5556926  64.7984304 17.705 17.501 12.770  9.065\n",
      "Length = 50 rows\n"
     ]
    }
   ],
   "source": [
    "print(df_wise)"
   ]
  },
  {
   "cell_type": "code",
   "execution_count": 28,
   "id": "b8bc644f-27d0-452c-b6c0-151dbe25a99f",
   "metadata": {},
   "outputs": [
    {
     "name": "stdout",
     "output_type": "stream",
     "text": [
      "   RAJ2000       DEJ2000      gmag     rmag \n",
      "     deg           deg        mag      mag  \n",
      "------------- ------------- -------- -------\n",
      " 67.658100110  64.752281480       -- 20.8498\n",
      " 67.670863980  64.751602780  20.5269 19.7141\n",
      " 67.661906560  64.758453640       --      --\n",
      " 67.668756020  64.752585730  21.0651 20.2121\n",
      " 67.625205570  64.767956640  21.1080      --\n",
      " 67.660127590  64.761825460  21.9143 20.2953\n",
      "          ...           ...      ...     ...\n",
      " 67.592319420  64.773653740       --      --\n",
      " 67.613422690  64.778325460       --      --\n",
      " 67.597712420  64.797451750  18.0329 17.2437\n",
      " 67.613652860  64.773845020  18.6468 17.3305\n",
      " 67.596374840  64.796073290  20.0560 19.1167\n",
      " 67.599730680  64.795980790       --      --\n",
      " 67.599188950  64.784916940  20.4345 19.2944\n",
      "Length = 50 rows\n"
     ]
    }
   ],
   "source": [
    "print(df_panstarrs)"
   ]
  },
  {
   "cell_type": "code",
   "execution_count": 12,
   "id": "63c76a55-66fe-4737-b866-616eaf040a37",
   "metadata": {},
   "outputs": [
    {
     "name": "stdout",
     "output_type": "stream",
     "text": [
      "   RA_ICRS        DE_ICRS        Gmag    Jmag   Hmag \n",
      "-------------- -------------- --------- ------ ------\n",
      "67.65393185732 64.76572693604 18.624233 15.777 15.183\n",
      "67.63863570041 64.76042696261 16.605988 14.726 14.232\n",
      " 67.5994214376 64.76052089568 19.531567  16.53 15.675\n",
      "67.62341151427 64.76220729184 19.120481 15.305 14.702\n",
      "67.63421636755 64.77217830975 18.319347 14.805 14.192\n",
      "67.63282146088 64.77188148542 16.968378 14.805 14.192\n",
      "67.62372531638 64.76228708416  17.73593 15.305 14.702\n",
      "           ...            ...       ...    ...    ...\n",
      "67.55423971834 64.79207868898 19.499905 16.495 15.609\n",
      "67.54547161848 64.79239452062 18.405125 16.319 16.548\n",
      "67.54600253516 64.78991525046 18.264679 16.341 16.039\n",
      "67.51470440305 64.78987517191  21.52257 16.616 15.336\n",
      "67.52171794643 64.80010947019 18.212729  16.05 15.245\n",
      "67.54130471587 64.80019555866 18.424984  15.59 14.921\n",
      " 67.5296824816   64.792369188  17.01991 14.734 14.068\n",
      "Length = 26 rows\n"
     ]
    }
   ],
   "source": [
    "print(data)"
   ]
  },
  {
   "cell_type": "code",
   "execution_count": null,
   "id": "7406861a-4ad6-42e7-9958-60866e72c4df",
   "metadata": {},
   "outputs": [],
   "source": []
  }
 ],
 "metadata": {
  "kernelspec": {
   "display_name": "Python 3 (ipykernel)",
   "language": "python",
   "name": "python3"
  },
  "language_info": {
   "codemirror_mode": {
    "name": "ipython",
    "version": 3
   },
   "file_extension": ".py",
   "mimetype": "text/x-python",
   "name": "python",
   "nbconvert_exporter": "python",
   "pygments_lexer": "ipython3",
   "version": "3.12.0"
  }
 },
 "nbformat": 4,
 "nbformat_minor": 5
}
