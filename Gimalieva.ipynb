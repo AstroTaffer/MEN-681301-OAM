{
 "cells": [
  {
   "cell_type": "code",
   "execution_count": 31,
   "id": "ee9048b4-304d-4a0b-8625-8e5cbcb11b94",
   "metadata": {},
   "outputs": [
    {
     "name": "stderr",
     "output_type": "stream",
     "text": [
      "WARNING: InputWarning: TableList is a container of astropy.Tables. [astroquery.utils.commons]\n",
      "WARNING: InputWarning: TableList is a container of astropy.Tables. [astroquery.utils.commons]\n",
      "WARNING: InputWarning: TableList is a container of astropy.Tables. [astroquery.utils.commons]\n",
      "WARNING: InputWarning: TableList is a container of astropy.Tables. [astroquery.utils.commons]\n"
     ]
    },
    {
     "name": "stdout",
     "output_type": "stream",
     "text": [
      "TableList with 1 tables:\n",
      "\t'0:I/350/gaiaedr3' with 39 column(s) and 50 row(s) \n",
      "TableList with 1 tables:\n",
      "\t'0:II/246/out' with 15 column(s) and 50 row(s) \n",
      "<TableColumns names=('RAJ2000','DEJ2000','_2MASS','Jmag','e_Jmag','Hmag','e_Hmag','Kmag','e_Kmag','Qflg','Rflg','Bflg','Cflg','Xflg','Aflg')>\n",
      "TableList with 1 tables:\n",
      "\t'0:II/328/allwise' with 28 column(s) and 50 row(s) \n",
      "TableList with 1 tables:\n",
      "\t'0:II/349/ps1' with 35 column(s) and 50 row(s) \n"
     ]
    },
    {
     "ename": "HTTPError",
     "evalue": "400 Client Error: Mauvaise Requête for url: http://cdsxmatch.u-strasbg.fr/xmatch/api/v1/sync",
     "output_type": "error",
     "traceback": [
      "\u001b[0;31m---------------------------------------------------------------------------\u001b[0m",
      "\u001b[0;31mHTTPError\u001b[0m                                 Traceback (most recent call last)",
      "Cell \u001b[0;32mIn[31], line 78\u001b[0m\n\u001b[1;32m     74\u001b[0m data_panstarrs\u001b[38;5;241m.\u001b[39madd_columns([table[\u001b[38;5;124m'\u001b[39m\u001b[38;5;124mRA_ICRS\u001b[39m\u001b[38;5;124m'\u001b[39m], table[\u001b[38;5;124m'\u001b[39m\u001b[38;5;124mDE_ICRS\u001b[39m\u001b[38;5;124m'\u001b[39m], table[\u001b[38;5;124m'\u001b[39m\u001b[38;5;124mGmag\u001b[39m\u001b[38;5;124m'\u001b[39m], table[\u001b[38;5;124m'\u001b[39m\u001b[38;5;124mgmag\u001b[39m\u001b[38;5;124m'\u001b[39m], table[\u001b[38;5;124m'\u001b[39m\u001b[38;5;124mrmag\u001b[39m\u001b[38;5;124m'\u001b[39m]])\n\u001b[1;32m     77\u001b[0m table_wise \u001b[38;5;241m=\u001b[39m Table\u001b[38;5;241m.\u001b[39mread(\u001b[38;5;124m'\u001b[39m\u001b[38;5;124mgaia_wise.csv\u001b[39m\u001b[38;5;124m'\u001b[39m)\n\u001b[0;32m---> 78\u001b[0m table \u001b[38;5;241m=\u001b[39m \u001b[43mXMatch\u001b[49m\u001b[38;5;241;43m.\u001b[39;49m\u001b[43mquery\u001b[49m\u001b[43m(\u001b[49m\u001b[43mcat1\u001b[49m\u001b[38;5;241;43m=\u001b[39;49m\u001b[43mdata_2mass\u001b[49m\u001b[43m,\u001b[49m\n\u001b[1;32m     79\u001b[0m \u001b[43m                     \u001b[49m\u001b[43mcat2\u001b[49m\u001b[38;5;241;43m=\u001b[39;49m\u001b[43mtable_wise\u001b[49m\u001b[43m,\u001b[49m\n\u001b[1;32m     80\u001b[0m \u001b[43m                     \u001b[49m\u001b[43mmax_distance\u001b[49m\u001b[38;5;241;43m=\u001b[39;49m\u001b[38;5;241;43m10\u001b[39;49m\u001b[38;5;241;43m*\u001b[39;49m\u001b[43mu\u001b[49m\u001b[38;5;241;43m.\u001b[39;49m\u001b[43marcsec\u001b[49m\u001b[43m,\u001b[49m\n\u001b[1;32m     81\u001b[0m \u001b[43m                     \u001b[49m\u001b[43mcolRA1\u001b[49m\u001b[38;5;241;43m=\u001b[39;49m\u001b[38;5;124;43m'\u001b[39;49m\u001b[38;5;124;43mRA_ICRS\u001b[39;49m\u001b[38;5;124;43m'\u001b[39;49m\u001b[43m,\u001b[49m\u001b[43m \u001b[49m\u001b[43mcolDec1\u001b[49m\u001b[38;5;241;43m=\u001b[39;49m\u001b[38;5;124;43m'\u001b[39;49m\u001b[38;5;124;43mDE_ICRS\u001b[39;49m\u001b[38;5;124;43m'\u001b[39;49m\u001b[43m,\u001b[49m\n\u001b[1;32m     82\u001b[0m \u001b[43m                     \u001b[49m\u001b[43mcolRA2\u001b[49m\u001b[38;5;241;43m=\u001b[39;49m\u001b[38;5;124;43m'\u001b[39;49m\u001b[38;5;124;43mRA_ICRS\u001b[39;49m\u001b[38;5;124;43m'\u001b[39;49m\u001b[43m,\u001b[49m\u001b[43m \u001b[49m\u001b[43mcolDec2\u001b[49m\u001b[38;5;241;43m=\u001b[39;49m\u001b[38;5;124;43m'\u001b[39;49m\u001b[38;5;124;43mDE_ICRS\u001b[39;49m\u001b[38;5;124;43m'\u001b[39;49m\u001b[43m)\u001b[49m\n\u001b[1;32m     83\u001b[0m \u001b[38;5;28mprint\u001b[39m(table)\n\u001b[1;32m     84\u001b[0m \u001b[38;5;124;03m\"\"\"\u001b[39;00m\n\u001b[1;32m     85\u001b[0m \u001b[38;5;124;03mfor i in range(len(table)):\u001b[39;00m\n\u001b[1;32m     86\u001b[0m \u001b[38;5;124;03m    plt.scatter(table[\"RA_ICRS\"], r[\"DE_ICRS\"], \u001b[39;00m\n\u001b[0;32m   (...)\u001b[0m\n\u001b[1;32m     92\u001b[0m \u001b[38;5;124;03mplt.show()\u001b[39;00m\n\u001b[1;32m     93\u001b[0m \u001b[38;5;124;03m\"\"\"\u001b[39;00m\n",
      "File \u001b[0;32m~/anaconda3/envs/telescopes/lib/python3.12/site-packages/astroquery/xmatch/core.py:71\u001b[0m, in \u001b[0;36mXMatchClass.query\u001b[0;34m(self, cat1, cat2, max_distance, colRA1, colDec1, colRA2, colDec2, area, cache, get_query_payload, **kwargs)\u001b[0m\n\u001b[1;32m     25\u001b[0m \u001b[38;5;28;01mdef\u001b[39;00m \u001b[38;5;21mquery\u001b[39m(\u001b[38;5;28mself\u001b[39m, cat1, cat2, max_distance,\n\u001b[1;32m     26\u001b[0m           colRA1\u001b[38;5;241m=\u001b[39m\u001b[38;5;28;01mNone\u001b[39;00m, colDec1\u001b[38;5;241m=\u001b[39m\u001b[38;5;28;01mNone\u001b[39;00m, colRA2\u001b[38;5;241m=\u001b[39m\u001b[38;5;28;01mNone\u001b[39;00m, colDec2\u001b[38;5;241m=\u001b[39m\u001b[38;5;28;01mNone\u001b[39;00m,\n\u001b[1;32m     27\u001b[0m           area\u001b[38;5;241m=\u001b[39m\u001b[38;5;124m'\u001b[39m\u001b[38;5;124mallsky\u001b[39m\u001b[38;5;124m'\u001b[39m, cache\u001b[38;5;241m=\u001b[39m\u001b[38;5;28;01mTrue\u001b[39;00m, get_query_payload\u001b[38;5;241m=\u001b[39m\u001b[38;5;28;01mFalse\u001b[39;00m, \u001b[38;5;241m*\u001b[39m\u001b[38;5;241m*\u001b[39mkwargs):\n\u001b[1;32m     28\u001b[0m \u001b[38;5;250m    \u001b[39m\u001b[38;5;124;03m\"\"\"\u001b[39;00m\n\u001b[1;32m     29\u001b[0m \u001b[38;5;124;03m    Query the `CDS cross-match service\u001b[39;00m\n\u001b[1;32m     30\u001b[0m \u001b[38;5;124;03m    <http://cdsxmatch.u-strasbg.fr/xmatch>`_ by finding matches between\u001b[39;00m\n\u001b[0;32m   (...)\u001b[0m\n\u001b[1;32m     69\u001b[0m \u001b[38;5;124;03m        Query results table\u001b[39;00m\n\u001b[1;32m     70\u001b[0m \u001b[38;5;124;03m    \"\"\"\u001b[39;00m\n\u001b[0;32m---> 71\u001b[0m     response \u001b[38;5;241m=\u001b[39m \u001b[38;5;28;43mself\u001b[39;49m\u001b[38;5;241;43m.\u001b[39;49m\u001b[43mquery_async\u001b[49m\u001b[43m(\u001b[49m\u001b[43mcat1\u001b[49m\u001b[43m,\u001b[49m\u001b[43m \u001b[49m\u001b[43mcat2\u001b[49m\u001b[43m,\u001b[49m\u001b[43m \u001b[49m\u001b[43mmax_distance\u001b[49m\u001b[43m,\u001b[49m\u001b[43m \u001b[49m\u001b[43mcolRA1\u001b[49m\u001b[43m,\u001b[49m\u001b[43m \u001b[49m\u001b[43mcolDec1\u001b[49m\u001b[43m,\u001b[49m\n\u001b[1;32m     72\u001b[0m \u001b[43m                                \u001b[49m\u001b[43mcolRA2\u001b[49m\u001b[43m,\u001b[49m\u001b[43m \u001b[49m\u001b[43mcolDec2\u001b[49m\u001b[43m,\u001b[49m\u001b[43m \u001b[49m\u001b[43marea\u001b[49m\u001b[38;5;241;43m=\u001b[39;49m\u001b[43marea\u001b[49m\u001b[43m,\u001b[49m\u001b[43m \u001b[49m\u001b[43mcache\u001b[49m\u001b[38;5;241;43m=\u001b[39;49m\u001b[43mcache\u001b[49m\u001b[43m,\u001b[49m\n\u001b[1;32m     73\u001b[0m \u001b[43m                                \u001b[49m\u001b[43mget_query_payload\u001b[49m\u001b[38;5;241;43m=\u001b[39;49m\u001b[43mget_query_payload\u001b[49m\u001b[43m,\u001b[49m\n\u001b[1;32m     74\u001b[0m \u001b[43m                                \u001b[49m\u001b[38;5;241;43m*\u001b[39;49m\u001b[38;5;241;43m*\u001b[39;49m\u001b[43mkwargs\u001b[49m\u001b[43m)\u001b[49m\n\u001b[1;32m     75\u001b[0m     \u001b[38;5;28;01mif\u001b[39;00m get_query_payload:\n\u001b[1;32m     76\u001b[0m         \u001b[38;5;28;01mreturn\u001b[39;00m response\n",
      "File \u001b[0;32m~/anaconda3/envs/telescopes/lib/python3.12/site-packages/astroquery/xmatch/core.py:109\u001b[0m, in \u001b[0;36mXMatchClass.query_async\u001b[0;34m(self, cat1, cat2, max_distance, colRA1, colDec1, colRA2, colDec2, area, cache, get_query_payload, **kwargs)\u001b[0m\n\u001b[1;32m    105\u001b[0m     \u001b[38;5;28;01mreturn\u001b[39;00m payload, kwargs\n\u001b[1;32m    107\u001b[0m response \u001b[38;5;241m=\u001b[39m \u001b[38;5;28mself\u001b[39m\u001b[38;5;241m.\u001b[39m_request(method\u001b[38;5;241m=\u001b[39m\u001b[38;5;124m'\u001b[39m\u001b[38;5;124mPOST\u001b[39m\u001b[38;5;124m'\u001b[39m, url\u001b[38;5;241m=\u001b[39m\u001b[38;5;28mself\u001b[39m\u001b[38;5;241m.\u001b[39mURL, data\u001b[38;5;241m=\u001b[39mpayload,\n\u001b[1;32m    108\u001b[0m                          timeout\u001b[38;5;241m=\u001b[39m\u001b[38;5;28mself\u001b[39m\u001b[38;5;241m.\u001b[39mTIMEOUT, cache\u001b[38;5;241m=\u001b[39mcache, \u001b[38;5;241m*\u001b[39m\u001b[38;5;241m*\u001b[39mkwargs)\n\u001b[0;32m--> 109\u001b[0m \u001b[43mresponse\u001b[49m\u001b[38;5;241;43m.\u001b[39;49m\u001b[43mraise_for_status\u001b[49m\u001b[43m(\u001b[49m\u001b[43m)\u001b[49m\n\u001b[1;32m    111\u001b[0m \u001b[38;5;28;01mreturn\u001b[39;00m response\n",
      "File \u001b[0;32m~/anaconda3/envs/telescopes/lib/python3.12/site-packages/requests/models.py:1021\u001b[0m, in \u001b[0;36mResponse.raise_for_status\u001b[0;34m(self)\u001b[0m\n\u001b[1;32m   1016\u001b[0m     http_error_msg \u001b[38;5;241m=\u001b[39m (\n\u001b[1;32m   1017\u001b[0m         \u001b[38;5;124mf\u001b[39m\u001b[38;5;124m\"\u001b[39m\u001b[38;5;132;01m{\u001b[39;00m\u001b[38;5;28mself\u001b[39m\u001b[38;5;241m.\u001b[39mstatus_code\u001b[38;5;132;01m}\u001b[39;00m\u001b[38;5;124m Server Error: \u001b[39m\u001b[38;5;132;01m{\u001b[39;00mreason\u001b[38;5;132;01m}\u001b[39;00m\u001b[38;5;124m for url: \u001b[39m\u001b[38;5;132;01m{\u001b[39;00m\u001b[38;5;28mself\u001b[39m\u001b[38;5;241m.\u001b[39murl\u001b[38;5;132;01m}\u001b[39;00m\u001b[38;5;124m\"\u001b[39m\n\u001b[1;32m   1018\u001b[0m     )\n\u001b[1;32m   1020\u001b[0m \u001b[38;5;28;01mif\u001b[39;00m http_error_msg:\n\u001b[0;32m-> 1021\u001b[0m     \u001b[38;5;28;01mraise\u001b[39;00m HTTPError(http_error_msg, response\u001b[38;5;241m=\u001b[39m\u001b[38;5;28mself\u001b[39m)\n",
      "\u001b[0;31mHTTPError\u001b[0m: 400 Client Error: Mauvaise Requête for url: http://cdsxmatch.u-strasbg.fr/xmatch/api/v1/sync"
     ]
    }
   ],
   "source": [
    "import astropy.units as u\n",
    "from astroquery.xmatch import XMatch\n",
    "from astropy.table import Table\n",
    "from astroquery.vizier import Vizier\n",
    "from astroquery.simbad import Simbad\n",
    "from astropy.coordinates import SkyCoord\n",
    "from astroquery.gaia import Gaia\n",
    "import matplotlib.pyplot as plt\n",
    "from astroquery.xmatch import XMatch\n",
    "import numpy as np\n",
    "import pandas as pd\n",
    "from astropy.io import ascii\n",
    "\n",
    "coord = SkyCoord(\"04:30:47.99\", \"+64:50:56.5\", unit=(u.hourangle, u.deg), frame='icrs')\n",
    "rad = 6 * u.arcminute\n",
    "\"\"\"\n",
    "width = u.Quantity(0.03, u.hourangle)\n",
    "height = u.Quantity(0.03, u.deg)\n",
    "Gaia.ROW_LIMIT = -1\n",
    "r = Gaia.query_object_async(coordinate=coord, width=width, height=height)\n",
    "\n",
    "'RA_ICRS', 'DE_ICRS', 'Gmag', 'Jmag', 'Hmag', 'Kmag', 'W1mag', 'W2mag', 'W3mag', 'W4mag', 'gmag', 'rmag'\n",
    "catalogs = ['Gaia', '2MASS', 'MSX', 'WISE', 'PanStarrs']\n",
    "mag = np.array([['Gmag'],\n",
    "                ['Jmag', 'Hmag', 'Kmag'],\n",
    "                ['W1mag', 'W2mag', 'W3mag', 'W4mag'],\n",
    "                ['gmag', 'rmag']])\n",
    "\"\"\"\n",
    "catalogs = ['vizier:I/350/gaiaedr3', 'vizier:II/246/out', 'vizier:II/328/allwise', 'vizier:II/349/ps1']\n",
    "catalog = ['I/350/gaiaedr3', 'II/246/out', 'II/328/allwise', 'II/349/ps1']\n",
    "\n",
    "df_gaia = Table(names=('RA_ICRS','DE_ICRS'))\n",
    "\n",
    "data_2mass = Table()\n",
    "data_wise = Table()\n",
    "data_panstarrs = Table()\n",
    "    #names=('RA_ICRS', 'DE_ICRS', 'Gmag', 'Jmag', 'Hmag', 'Kmag', 'W1mag', 'W2mag', 'W3mag', 'W4mag', 'gmag', 'rmag'))\n",
    "\n",
    "df_gaia = Table(names=('RA_ICRS', 'DE_ICRS', 'Gmag'))\n",
    "df_2mass = Table(names=('RAJ2000', 'DEJ2000', 'Jmag', 'Hmag', 'Kmag'))\n",
    "df_wise = Table(names=('RAJ2000', 'DEJ2000', 'W1mag', 'W2mag', 'W3mag', 'W4mag'))\n",
    "df_panstarrs = Table(names=('RAJ2000', 'DEJ2000', 'gmag', 'rmag'))\n",
    "\n",
    "for i in range(len(catalogs)):\n",
    "    result_table = Vizier.query_region(coord, radius=rad, catalog=catalog[i])\n",
    "    result_table.pprint(show_unit=True, max_lines=100, max_width=1000)\n",
    "    if i==0:\n",
    "        df_gaia = result_table[0]['RA_ICRS','DE_ICRS', 'Gmag']\n",
    "    if i==1:\n",
    "        print(result_table[0].columns)\n",
    "        df_2mass = result_table[0]['RAJ2000', 'DEJ2000', 'Jmag', 'Hmag', 'Kmag']\n",
    "    if i==2:\n",
    "        df_wise = result_table[0]['RAJ2000', 'DEJ2000', 'W1mag', 'W2mag', 'W3mag', 'W4mag']\n",
    "    if i==3:\n",
    "        df_panstarrs = result_table[0]['RAJ2000', 'DEJ2000', 'gmag', 'rmag']\n",
    "        \n",
    "table = XMatch.query(cat1=df_gaia,\n",
    "                     cat2=catalogs[1],\n",
    "                     max_distance=5 * u.arcsec,\n",
    "                     colRA1='RA_ICRS', colDec1='DE_ICRS')\n",
    "data_2mass.add_columns([table ['RA_ICRS'], table['DE_ICRS'], table['Gmag'], table['Jmag'], table['Hmag']])\n",
    "\n",
    "table = XMatch.query(cat1=data,\n",
    "                     cat2=catalogs[2],\n",
    "                     max_distance=5 * u.arcsec,\n",
    "                     colRA1='RA_ICRS', colDec1='DE_ICRS')\n",
    "data_wise.add_columns([table['RA_ICRS'], table['DE_ICRS'], table['Gmag'], table['W1mag'], table['W2mag'], table['W3mag'], table['W4mag']])\n",
    "ascii.write(data_wise, 'gaia_wise.csv', format='csv', fast_writer=False, overwrite=True)\n",
    "\n",
    "table = XMatch.query(cat1=data,\n",
    "                     cat2=catalogs[3],\n",
    "                     max_distance=5 * u.arcsec,\n",
    "                     colRA1='RA_ICRS', colDec1='DE_ICRS')\n",
    "data_panstarrs.add_columns([table['RA_ICRS'], table['DE_ICRS'], table['Gmag'], table['gmag'], table['rmag']])\n",
    "\n",
    "\n",
    "table_wise = Table.read('gaia_wise.csv')\n",
    "table = XMatch.query(cat1=data_2mass,\n",
    "                     cat2=table_wise,\n",
    "                     max_distance=10*u.arcsec,\n",
    "                     colRA1='RA_ICRS', colDec1='DE_ICRS',\n",
    "                     colRA2='RA_ICRS', colDec2='DE_ICRS')\n",
    "print(table)\n",
    "\"\"\"\n",
    "for i in range(len(table)):\n",
    "    plt.scatter(table[\"RA_ICRS\"], r[\"DE_ICRS\"], \n",
    "            c=r[\"phot_g_mean_mag\"], s=12)\n",
    "r['pmdec'] = r['pmdec'].apply(correct_pm)\n",
    "plt.quiver(r[\"ra\"].filled(0), r[\"dec\"].filled(0), r[\"pmra\"].filled(0), r[\"pmdec\"].filled(0), color='0.4')\n",
    "plt.xlabel(\"RA, °\")\n",
    "plt.ylabel(\"DEC, °\")\n",
    "plt.show()\n",
    "\"\"\""
   ]
  },
  {
   "cell_type": "code",
   "execution_count": 28,
   "id": "7406861a-4ad6-42e7-9958-60866e72c4df",
   "metadata": {},
   "outputs": [
    {
     "data": {
      "text/html": [
       "<div><i>Table length=24</i>\n",
       "<table id=\"table140475250300912\" class=\"table-striped table-bordered table-condensed\">\n",
       "<thead><tr><th>RA_ICRS</th><th>DE_ICRS</th><th>Gmag</th><th>W1mag</th><th>W2mag</th><th>W3mag</th><th>W4mag</th></tr></thead>\n",
       "<thead><tr><th>float64</th><th>float64</th><th>float64</th><th>float64</th><th>float64</th><th>float64</th><th>float64</th></tr></thead>\n",
       "<tr><td>67.65393185732</td><td>64.76572693604</td><td>18.624233</td><td>14.766</td><td>14.742</td><td>12.083</td><td>9.122</td></tr>\n",
       "<tr><td>67.63863570041</td><td>64.76042696261</td><td>16.605988</td><td>13.981</td><td>14.063</td><td>12.321</td><td>8.824</td></tr>\n",
       "<tr><td>67.5994214376</td><td>64.76052089568</td><td>19.531567</td><td>15.193</td><td>15.218</td><td>11.972</td><td>8.868</td></tr>\n",
       "<tr><td>67.62341151427</td><td>64.76220729184</td><td>19.120481</td><td>14.339</td><td>14.273</td><td>12.798</td><td>9.073</td></tr>\n",
       "<tr><td>67.63421636755</td><td>64.77217830975</td><td>18.319347</td><td>13.67</td><td>13.753</td><td>12.497</td><td>9.067</td></tr>\n",
       "<tr><td>67.63282146088</td><td>64.77188148542</td><td>16.968378</td><td>13.67</td><td>13.753</td><td>12.497</td><td>9.067</td></tr>\n",
       "<tr><td>...</td><td>...</td><td>...</td><td>...</td><td>...</td><td>...</td><td>...</td></tr>\n",
       "<tr><td>67.59771206665</td><td>64.79745183534</td><td>17.217918</td><td>14.629</td><td>14.567</td><td>12.714</td><td>8.971</td></tr>\n",
       "<tr><td>67.55423971834</td><td>64.79207868898</td><td>19.499905</td><td>15.739</td><td>15.508</td><td>12.774</td><td>8.991</td></tr>\n",
       "<tr><td>67.54547161848</td><td>64.79239452062</td><td>18.405125</td><td>15.714</td><td>15.771</td><td>12.744</td><td>9.18</td></tr>\n",
       "<tr><td>67.51470440305</td><td>64.78987517191</td><td>21.52257</td><td>14.449</td><td>14.288</td><td>10.99</td><td>8.412</td></tr>\n",
       "<tr><td>67.52171794643</td><td>64.80010947019</td><td>18.212729</td><td>15.275</td><td>15.317</td><td>12.793</td><td>9.069</td></tr>\n",
       "<tr><td>67.54130471587</td><td>64.80019555866</td><td>18.424984</td><td>14.565</td><td>14.633</td><td>12.676</td><td>9.18</td></tr>\n",
       "<tr><td>67.5296824816</td><td>64.792369188</td><td>17.01991</td><td>13.674</td><td>13.677</td><td>12.188</td><td>8.933</td></tr>\n",
       "</table></div>"
      ],
      "text/plain": [
       "<Table length=24>\n",
       "   RA_ICRS        DE_ICRS        Gmag    W1mag   W2mag   W3mag   W4mag \n",
       "   float64        float64      float64  float64 float64 float64 float64\n",
       "-------------- -------------- --------- ------- ------- ------- -------\n",
       "67.65393185732 64.76572693604 18.624233  14.766  14.742  12.083   9.122\n",
       "67.63863570041 64.76042696261 16.605988  13.981  14.063  12.321   8.824\n",
       " 67.5994214376 64.76052089568 19.531567  15.193  15.218  11.972   8.868\n",
       "67.62341151427 64.76220729184 19.120481  14.339  14.273  12.798   9.073\n",
       "67.63421636755 64.77217830975 18.319347   13.67  13.753  12.497   9.067\n",
       "67.63282146088 64.77188148542 16.968378   13.67  13.753  12.497   9.067\n",
       "           ...            ...       ...     ...     ...     ...     ...\n",
       "67.59771206665 64.79745183534 17.217918  14.629  14.567  12.714   8.971\n",
       "67.55423971834 64.79207868898 19.499905  15.739  15.508  12.774   8.991\n",
       "67.54547161848 64.79239452062 18.405125  15.714  15.771  12.744    9.18\n",
       "67.51470440305 64.78987517191  21.52257  14.449  14.288   10.99   8.412\n",
       "67.52171794643 64.80010947019 18.212729  15.275  15.317  12.793   9.069\n",
       "67.54130471587 64.80019555866 18.424984  14.565  14.633  12.676    9.18\n",
       " 67.5296824816   64.792369188  17.01991  13.674  13.677  12.188   8.933"
      ]
     },
     "execution_count": 28,
     "metadata": {},
     "output_type": "execute_result"
    }
   ],
   "source": [
    "table_wise"
   ]
  },
  {
   "cell_type": "code",
   "execution_count": null,
   "id": "8cbe3f26-0ce5-4326-9966-3b7ea35c0aa8",
   "metadata": {},
   "outputs": [],
   "source": []
  }
 ],
 "metadata": {
  "kernelspec": {
   "display_name": "Python 3 (ipykernel)",
   "language": "python",
   "name": "python3"
  },
  "language_info": {
   "codemirror_mode": {
    "name": "ipython",
    "version": 3
   },
   "file_extension": ".py",
   "mimetype": "text/x-python",
   "name": "python",
   "nbconvert_exporter": "python",
   "pygments_lexer": "ipython3",
   "version": "3.12.0"
  }
 },
 "nbformat": 4,
 "nbformat_minor": 5
}
