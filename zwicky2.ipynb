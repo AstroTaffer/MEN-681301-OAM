{
 "cells": [
  {
   "cell_type": "code",
   "execution_count": 1,
   "id": "7edfe6f3-04cb-42ac-85ea-220bac55f708",
   "metadata": {
    "tags": []
   },
   "outputs": [],
   "source": [
    "import matplotlib.pyplot as plt\n",
    "\n",
    "%matplotlib inline"
   ]
  },
  {
   "cell_type": "code",
   "execution_count": 2,
   "id": "82721f8d-6641-4f9e-96a7-756774954f69",
   "metadata": {
    "tags": []
   },
   "outputs": [],
   "source": [
    "import numpy as np\n",
    "import healpy as hp"
   ]
  },
  {
   "cell_type": "code",
   "execution_count": 3,
   "id": "9f42a2b7-eb51-4872-a6e1-fcac0a3b83b7",
   "metadata": {
    "tags": []
   },
   "outputs": [
    {
     "data": {
      "text/plain": [
       "['HPId', 'HPlevel', 'A0', 'e_A0', 'Ntracers']"
      ]
     },
     "execution_count": 3,
     "metadata": {},
     "output_type": "execute_result"
    }
   ],
   "source": [
    "av = np.load('I_355_tgextmap.npz')\n",
    "level = 9\n",
    "av.files"
   ]
  },
  {
   "cell_type": "code",
   "execution_count": 4,
   "id": "ed7cad83-cb18-46ec-8f12-181a1bcd9e82",
   "metadata": {
    "tags": []
   },
   "outputs": [],
   "source": [
    "mask = av['HPlevel'] == level"
   ]
  },
  {
   "cell_type": "code",
   "execution_count": 5,
   "id": "49637ece-d3ce-47d8-a072-0edd89075519",
   "metadata": {
    "tags": []
   },
   "outputs": [
    {
     "data": {
      "text/plain": [
       "array([  68672,   68673,   68674, ..., 2638246, 2638247, 2638248],\n",
       "      dtype=int32)"
      ]
     },
     "execution_count": 5,
     "metadata": {},
     "output_type": "execute_result"
    }
   ],
   "source": [
    "av['HPId'][mask]"
   ]
  },
  {
   "cell_type": "code",
   "execution_count": 6,
   "id": "8da87aa9-04c8-418f-bca7-8bd5f0328cef",
   "metadata": {
    "tags": []
   },
   "outputs": [
    {
     "name": "stdout",
     "output_type": "stream",
     "text": [
      "3145728\n",
      "6.870972823634812\n"
     ]
    }
   ],
   "source": [
    "NSIDE = 2**level\n",
    "NPIX = hp.nside2npix(NSIDE)\n",
    "print(NPIX)\n",
    "print(hp.nside2resol(NSIDE, arcmin=True))\n",
    "m = np.zeros(NPIX)"
   ]
  },
  {
   "cell_type": "code",
   "execution_count": 7,
   "id": "d6c862ed-ac31-496a-a85d-c0cc0e87d23a",
   "metadata": {
    "tags": []
   },
   "outputs": [],
   "source": [
    "m[av['HPId'][mask]] = av['A0'][mask]"
   ]
  },
  {
   "cell_type": "code",
   "execution_count": 8,
   "id": "37abc93b-5118-475a-acf7-1d1221435d1f",
   "metadata": {
    "tags": []
   },
   "outputs": [
    {
     "data": {
      "text/plain": [
       "array([0.    , 0.    , 0.    , ..., 0.1301, 0.2425, 0.    ])"
      ]
     },
     "execution_count": 8,
     "metadata": {},
     "output_type": "execute_result"
    }
   ],
   "source": [
    "m"
   ]
  },
  {
   "cell_type": "code",
   "execution_count": null,
   "id": "6f67d6ba-fca0-4566-87ff-6a2c0e89fb89",
   "metadata": {
    "tags": []
   },
   "outputs": [],
   "source": [
    "#hp.mollview(m, nest=True, coord=('C', 'G'))\n",
    "lat = -19.3523078\n",
    "dl = 5\n",
    "lon = 260.10740722\n",
    "#hp.cartview(m, nest=True, lonra=[lon-dl, lon+dl], latra=[lat-dl, lat+dl])\n",
    "hp.gnomview(m, nest=True, rot=(lon, lat, 90), reso=10*60/1000, xsize=1000)\n",
    "#hp.graticule()"
   ]
  },
  {
   "cell_type": "code",
   "execution_count": null,
   "id": "0f5c4d22-eb4c-4979-b1c3-02a64bc83b15",
   "metadata": {},
   "outputs": [],
   "source": []
  }
 ],
 "metadata": {
  "kernelspec": {
   "display_name": "Python 3 (ipykernel)",
   "language": "python",
   "name": "python3"
  },
  "language_info": {
   "codemirror_mode": {
    "name": "ipython",
    "version": 3
   },
   "file_extension": ".py",
   "mimetype": "text/x-python",
   "name": "python",
   "nbconvert_exporter": "python",
   "pygments_lexer": "ipython3",
   "version": "3.8.17"
  }
 },
 "nbformat": 4,
 "nbformat_minor": 5
}
